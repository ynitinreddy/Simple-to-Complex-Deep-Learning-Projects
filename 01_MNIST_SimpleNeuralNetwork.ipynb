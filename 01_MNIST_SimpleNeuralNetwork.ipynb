{
  "nbformat": 4,
  "nbformat_minor": 0,
  "metadata": {
    "colab": {
      "provenance": []
    },
    "kernelspec": {
      "name": "python3",
      "display_name": "Python 3"
    },
    "language_info": {
      "name": "python"
    }
  },
  "cells": [
    {
      "cell_type": "code",
      "execution_count": 2,
      "metadata": {
        "id": "ifZNP6iUEtXr"
      },
      "outputs": [],
      "source": [
        "# Imports\n",
        "import torch\n",
        "import torchvision\n",
        "import torch.nn as nn\n",
        "import torch.optim as optim\n",
        "import torch.nn.functional as F\n",
        "from torch.utils.data import DataLoader\n",
        "import torchvision.datasets as datasets\n",
        "import torchvision.transforms as transforms"
      ]
    },
    {
      "cell_type": "code",
      "source": [
        "# Create a Fully Connected Network\n",
        "class NN(nn.Module):\n",
        "  def __init__(self, in_features, num_classes):\n",
        "    super().__init__()\n",
        "    self.fc1 = nn.Linear(in_features, 50)\n",
        "    self.fc2 = nn.Linear(50, num_classes)\n",
        "\n",
        "  def forward(self, x):\n",
        "    x = F.relu(self.fc1(x))\n",
        "    x = self.fc2(x)\n",
        "    return x\n",
        "\n",
        "# model = NN(784, 10)\n",
        "# random_tensor = torch.randn(64, 784)\n",
        "# print(model(random_tensor).shape)"
      ],
      "metadata": {
        "id": "poj5ICqoFVxP"
      },
      "execution_count": 7,
      "outputs": []
    },
    {
      "cell_type": "code",
      "source": [
        "# Set device\n",
        "device = torch.device(\"cuda\" if torch.cuda.is_available() else \"cpu\")\n",
        "device"
      ],
      "metadata": {
        "colab": {
          "base_uri": "https://localhost:8080/"
        },
        "id": "DLbVR-GgGM8E",
        "outputId": "51fc7200-839b-4678-d249-30dac19f1681"
      },
      "execution_count": 8,
      "outputs": [
        {
          "output_type": "execute_result",
          "data": {
            "text/plain": [
              "device(type='cpu')"
            ]
          },
          "metadata": {},
          "execution_count": 8
        }
      ]
    },
    {
      "cell_type": "code",
      "source": [
        "# Hyperparameters\n",
        "LEARNING_RATE = 0.001\n",
        "BATCH_SIZE = 64\n",
        "INPUT_SIZE = 784\n",
        "NUM_CLASSES = 10\n",
        "EPOCHS = 10"
      ],
      "metadata": {
        "id": "JeB91tnuGpV7"
      },
      "execution_count": 9,
      "outputs": []
    },
    {
      "cell_type": "code",
      "source": [
        "# Load Data\n",
        "train_data = datasets.MNIST(root='data',\n",
        "                            train=True,\n",
        "                            transform=transforms.ToTensor(),\n",
        "                            download=True)\n",
        "test_data = datasets.MNIST(root='data',\n",
        "                           train=False,\n",
        "                           download=True,\n",
        "                           transform=transforms.ToTensor())\n",
        "\n",
        "train_dataloader = DataLoader(dataset=train_data,\n",
        "                              batch_size=BATCH_SIZE,\n",
        "                              shuffle=True)\n",
        "test_dataloader = DataLoader(dataset=test_data,\n",
        "                              batch_size=BATCH_SIZE,\n",
        "                              shuffle=False)\n",
        "\n",
        "train_data, test_data"
      ],
      "metadata": {
        "colab": {
          "base_uri": "https://localhost:8080/"
        },
        "id": "3DAT2JlDG4qE",
        "outputId": "9e8125f7-5c2e-4f60-822a-f369ee9070e2"
      },
      "execution_count": 13,
      "outputs": [
        {
          "output_type": "execute_result",
          "data": {
            "text/plain": [
              "(Dataset MNIST\n",
              "     Number of datapoints: 60000\n",
              "     Root location: data\n",
              "     Split: Train\n",
              "     StandardTransform\n",
              " Transform: ToTensor(),\n",
              " Dataset MNIST\n",
              "     Number of datapoints: 10000\n",
              "     Root location: data\n",
              "     Split: Test\n",
              "     StandardTransform\n",
              " Transform: ToTensor())"
            ]
          },
          "metadata": {},
          "execution_count": 13
        }
      ]
    },
    {
      "cell_type": "code",
      "source": [
        "# Initialize Network\n",
        "model = NN(INPUT_SIZE, NUM_CLASSES).to(device)\n",
        "model"
      ],
      "metadata": {
        "colab": {
          "base_uri": "https://localhost:8080/"
        },
        "id": "PA9dYiG6HScD",
        "outputId": "2c590f96-4a27-4289-966f-90b5ed4cfc69"
      },
      "execution_count": 14,
      "outputs": [
        {
          "output_type": "execute_result",
          "data": {
            "text/plain": [
              "NN(\n",
              "  (fc1): Linear(in_features=784, out_features=50, bias=True)\n",
              "  (fc2): Linear(in_features=50, out_features=10, bias=True)\n",
              ")"
            ]
          },
          "metadata": {},
          "execution_count": 14
        }
      ]
    },
    {
      "cell_type": "code",
      "source": [
        "# Loss and Optimizer\n",
        "loss_fn = nn.CrossEntropyLoss()\n",
        "optimizer = optim.Adam(params=model.parameters(),\n",
        "                       lr=LEARNING_RATE)\n",
        "\n",
        "loss_fn, optimizer"
      ],
      "metadata": {
        "colab": {
          "base_uri": "https://localhost:8080/"
        },
        "id": "JGcXRzQKHiI1",
        "outputId": "2cbcee09-ce43-4383-accc-d65e93d32764"
      },
      "execution_count": 15,
      "outputs": [
        {
          "output_type": "execute_result",
          "data": {
            "text/plain": [
              "(CrossEntropyLoss(),\n",
              " Adam (\n",
              " Parameter Group 0\n",
              "     amsgrad: False\n",
              "     betas: (0.9, 0.999)\n",
              "     capturable: False\n",
              "     differentiable: False\n",
              "     eps: 1e-08\n",
              "     foreach: None\n",
              "     fused: None\n",
              "     lr: 0.001\n",
              "     maximize: False\n",
              "     weight_decay: 0\n",
              " ))"
            ]
          },
          "metadata": {},
          "execution_count": 15
        }
      ]
    },
    {
      "cell_type": "code",
      "source": [
        "# Train Network\n",
        "model.train()\n",
        "for epoch in range(EPOCHS):\n",
        "  for batch, (X, y) in enumerate(train_dataloader):\n",
        "    X, y = X.to(device), y.to(device)\n",
        "    X = X.reshape(X.shape[0], -1)\n",
        "    preds = model(X)\n",
        "    loss = loss_fn(preds, y)\n",
        "    optimizer.zero_grad()\n",
        "    loss.backward()\n",
        "    optimizer.step()"
      ],
      "metadata": {
        "id": "0hL6F8XAIEEG"
      },
      "execution_count": 16,
      "outputs": []
    },
    {
      "cell_type": "code",
      "source": [
        "# Check accuracy on training and test data to see how good our model is\n",
        "def check_accuracy(model, dataloader):\n",
        "\n",
        "  if dataloader.dataset.train:\n",
        "    print(\"Checking accuracy on training data\")\n",
        "  else:\n",
        "    print(\"Checking accuracy on testing data\")\n",
        "\n",
        "  num_correct, num_samples = 0, 0\n",
        "\n",
        "  model.eval()\n",
        "  with torch.inference_mode():\n",
        "    for X, y in dataloader:\n",
        "      X, y = X.to(device), y.to(device)\n",
        "      X = X.reshape(X.shape[0], -1)\n",
        "      scores = model(X)\n",
        "      _, predictions = scores.max(1)\n",
        "      num_correct += (predictions==y).sum()\n",
        "      num_samples += predictions.size(0)\n",
        "\n",
        "  print(f\"{num_correct}/{num_samples} correct and the accuracy is {num_correct/num_samples * 100:.2f}\")\n",
        "\n",
        "check_accuracy(model, train_dataloader)\n",
        "check_accuracy(model, test_dataloader)"
      ],
      "metadata": {
        "colab": {
          "base_uri": "https://localhost:8080/"
        },
        "id": "YE841MXLJIqB",
        "outputId": "16f1486f-b8c8-4af8-bd38-b5d2ce5ccda5"
      },
      "execution_count": 17,
      "outputs": [
        {
          "output_type": "stream",
          "name": "stdout",
          "text": [
            "Checking accuracy on training data\n",
            "59094/60000 correct and the accuracy is 98.49\n",
            "Checking accuracy on testing data\n",
            "9716/10000 correct and the accuracy is 97.16\n"
          ]
        }
      ]
    },
    {
      "cell_type": "code",
      "source": [],
      "metadata": {
        "id": "JAL1ZJeLK6hk"
      },
      "execution_count": null,
      "outputs": []
    }
  ]
}